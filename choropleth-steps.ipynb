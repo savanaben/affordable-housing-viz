{
 "cells": [
  {
   "cell_type": "code",
   "execution_count": 1,
   "metadata": {},
   "outputs": [
    {
     "name": "stdout",
     "output_type": "stream",
     "text": [
      "Units: [1, 5, 28, 149, 791, 4196, 22252]\n",
      "Total: [1, 4, 17, 73, 303, 1266, 5283]\n"
     ]
    }
   ],
   "source": [
    "import pandas as pd\n",
    "import numpy as np\n",
    "\n",
    "def calculate_log_norm(column, base=2):\n",
    "    log_norm = np.log2(column)\n",
    "    min_norm = log_norm.min()\n",
    "    max_norm = log_norm.max()\n",
    "    step = (max_norm - min_norm) / 6\n",
    "    norm = [base ** (min_norm + step * i) for i in range(7)]\n",
    "\n",
    "    # Round each value in the list to the nearest whole number\n",
    "    norm = [round(x) for x in norm]\n",
    "\n",
    "    return norm\n",
    "\n",
    "# Load the data from CSV file\n",
    "df = pd.read_csv('Total_Units_per_Comu.csv')\n",
    "\n",
    "# Add a constant value to the data to avoid zero and negative values\n",
    "constant = 1\n",
    "df['units'] = df['units'] + constant\n",
    "df['Total'] = df['Total'] + constant\n",
    "\n",
    "# Calculate logarithmic normalization for both columns\n",
    "units_norm = calculate_log_norm(df['units'])\n",
    "total_norm = calculate_log_norm(df['Total'])\n",
    "\n",
    "# Print the list of color breaks for both columns\n",
    "print(\"Units:\", units_norm)\n",
    "print(\"Total:\", total_norm)\n"
   ]
  }
 ],
 "metadata": {
  "kernelspec": {
   "display_name": "base",
   "language": "python",
   "name": "python3"
  },
  "language_info": {
   "codemirror_mode": {
    "name": "ipython",
    "version": 3
   },
   "file_extension": ".py",
   "mimetype": "text/x-python",
   "name": "python",
   "nbconvert_exporter": "python",
   "pygments_lexer": "ipython3",
   "version": "3.9.13"
  },
  "orig_nbformat": 4
 },
 "nbformat": 4,
 "nbformat_minor": 2
}
